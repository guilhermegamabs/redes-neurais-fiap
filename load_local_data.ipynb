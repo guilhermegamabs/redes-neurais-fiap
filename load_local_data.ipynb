{
 "cells": [
  {
   "cell_type": "code",
   "execution_count": 2,
   "metadata": {},
   "outputs": [
    {
     "name": "stdout",
     "output_type": "stream",
     "text": [
      "Downloading data from https://storage.googleapis.com/tensorflow/tf-keras-datasets/mnist.npz\n",
      "\u001b[1m11490434/11490434\u001b[0m \u001b[32m━━━━━━━━━━━━━━━━━━━━\u001b[0m\u001b[37m\u001b[0m \u001b[1m2s\u001b[0m 0us/step\n",
      "Imagens salvas em: d:\\Monte Carlo Digital\\Projeto MNIST\\.env\\images\n"
     ]
    }
   ],
   "source": [
    "import os\n",
    "from tensorflow.keras.datasets import mnist\n",
    "from PIL import Image\n",
    "\n",
    "# Diretório onde as imagens serão salvas\n",
    "output_dir = os.path.join(os.getcwd(), \".env\", \"images\")\n",
    "os.makedirs(output_dir, exist_ok=True)\n",
    "\n",
    "# Carregar o conjunto de dados MNIST da pasta local\n",
    "(x_train, y_train), (x_test, y_test) = mnist.load_data()\n",
    "\n",
    "# Função para salvar as imagens\n",
    "def save_images(data, labels, dataset_type):\n",
    "    dataset_dir = os.path.join(output_dir, dataset_type)\n",
    "    os.makedirs(dataset_dir, exist_ok=True)\n",
    "\n",
    "    for i, (image, label) in enumerate(zip(data, labels)):\n",
    "        label_dir = os.path.join(dataset_dir, str(label))\n",
    "        os.makedirs(label_dir, exist_ok=True)\n",
    "\n",
    "        # Caminho completo para salvar a imagem\n",
    "        image_path = os.path.join(label_dir, f\"{i}.jpg\")\n",
    "        img = Image.fromarray(image)\n",
    "        img.save(image_path, format=\"JPEG\")\n",
    "\n",
    "# Salvar imagens de treino e teste\n",
    "save_images(x_train, y_train, \"train\")\n",
    "save_images(x_test, y_test, \"test\")\n",
    "\n",
    "print(f\"Imagens salvas em: {output_dir}\")"
   ]
  }
 ],
 "metadata": {
  "kernelspec": {
   "display_name": ".env",
   "language": "python",
   "name": "python3"
  },
  "language_info": {
   "codemirror_mode": {
    "name": "ipython",
    "version": 3
   },
   "file_extension": ".py",
   "mimetype": "text/x-python",
   "name": "python",
   "nbconvert_exporter": "python",
   "pygments_lexer": "ipython3",
   "version": "3.11.5"
  }
 },
 "nbformat": 4,
 "nbformat_minor": 2
}
